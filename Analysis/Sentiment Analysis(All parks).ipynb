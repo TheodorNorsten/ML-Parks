{
 "cells": [
  {
   "cell_type": "code",
   "execution_count": 1,
   "metadata": {},
   "outputs": [],
   "source": [
    "#Importing useful modules.\n",
    "import pandas as pd\n",
    "import numpy as np\n",
    "import json\n",
    "import matplotlib.pyplot as plt\n",
    "import seaborn as sns\n",
    "sns.set_style('whitegrid')"
   ]
  },
  {
   "cell_type": "code",
   "execution_count": 2,
   "metadata": {},
   "outputs": [],
   "source": [
    "\n",
    "%matplotlib inline"
   ]
  },
  {
   "cell_type": "code",
   "execution_count": 21,
   "metadata": {},
   "outputs": [],
   "source": [
    "\n",
    "def Open_File(file_name):\n",
    "    '''Function takes one input argument, a JSON-file,corresponding to the saved file-name,for each park, \n",
    "    from the result of the request to Twitters API and converts the JSON-file to a dictionary.   \n",
    "    IN: file_name(JSON-object).\n",
    "    OUT: Tweet_Data (Dictionary), Dictionary of the JSON-file.'''\n",
    "    \n",
    "    with open(file_name) as file:\n",
    "        Tweet_Data= json.load(file)\n",
    "\n",
    "    return Tweet_Data"
   ]
  },
  {
   "cell_type": "code",
   "execution_count": 22,
   "metadata": {},
   "outputs": [],
   "source": [
    "def ToDataframe_text(Tweet_Data):\n",
    "    '''  Function takes a dictionary corresponding to the JSON-file for each park, Extracts the \"Text\" data and returns\n",
    "    a Pandas DataFrame with one column,Tweet/Text-data, were each row represents one unique Tweet.\n",
    "    IN: Tweet_Data(Dictionary).\n",
    "    OUT: DataFrame, with one column, Tweet/text-data.'''\n",
    "    \n",
    "    Df_list=[]\n",
    "    for item in Tweet_Data['statuses']:\n",
    "        if item['truncated']==True:\n",
    "            Df_list.append(item['extended_tweet']['full_text'])\n",
    "        else:\n",
    "            Df_list.append(item['text'])\n",
    "    pd.set_option('display.max_colwidth',-1)\n",
    "    Df= pd.DataFrame(data=Df_list,columns=['Tweet'])\n",
    "    return Df\n",
    "\n",
    "'uncomment beloew rows for quick visualization'\n",
    "#Tweet_Data=Open_File('TwitterData_Json'+'/Hagaparken_Tweet15-19.json')\n",
    "#df_text= ToDataframe_text(Tweet_Data)\n"
   ]
  },
  {
   "cell_type": "code",
   "execution_count": 23,
   "metadata": {
    "scrolled": false
   },
   "outputs": [],
   "source": [
    "#importing pythons regular expression library.\n",
    "import re\n",
    "def clean_text_round1(text):\n",
    "    ''' Funtion takes one input argument,the tweet column in our Dataframe,and removes URL-references and special characters\n",
    "    that doesnt influence the sentiment such att #,numbers and /(see below) using pythons regular expression library. \n",
    "    Function returns a cleaned DataFramed. \n",
    "    IN: DataFranme, Tweet(text)-data column.\n",
    "    OUT: DataFrame, cleaned from URL-references and special characters.'''\n",
    "    \n",
    "    text=re.sub(r'((https?):((//)|(\\\\\\\\))+([\\w\\d:#@%/;$()~_?\\+-=\\\\\\.&](#!)?)*)','',text)\n",
    "    text=re.sub(r'@\\S+ ', r'', text)\n",
    "    text= re.sub(r'[@0-9.#/\"?;():-]', '', text)\n",
    "    return text\n",
    "\n",
    "\n",
    "'uncomment below rows for quick visualization'\n",
    "#round1=lambda tweet:clean_text_round1(tweet)\n",
    "#data_clean=pd.DataFrame(df_text['Tweet'].apply(round1))\n",
    "#data_clean.loc[[4,13,15,32,40,41,47,51,53],['Tweet']]"
   ]
  },
  {
   "cell_type": "code",
   "execution_count": 24,
   "metadata": {},
   "outputs": [],
   "source": [
    "\n",
    "def clean_text_round2(text):\n",
    "    ''' Funtion takes one input argument,the tweet column in our Dataframe,and removes the special characters\n",
    "    \"\\n\" , \"''\", \",\" and \"-\" using the python regular expresson library,  and returns a cleaned DataFrame.\n",
    "    IN: Pandas DataFrame.\n",
    "    OUT: Pandas DataFrame, containing only alphabetic letters, emojis and exclamation mark(\"!\").'''\n",
    "    \n",
    "    text= re.sub(r'[\\n]','',text)\n",
    "    text=re.sub(r'[”_,]','',text)\n",
    "    return text\n",
    "\n",
    "\n",
    "'uncomment below rows for quick visualization'\n",
    "#data_clean['Tweet']=data_clean['Tweet'].apply(lambda tweet: clean_text_round2(tweet))\n",
    "#data_clean.loc[[4,13,15,32,40,41,47,51,53],['Tweet']]\n",
    "\n",
    "\n",
    "\n"
   ]
  },
  {
   "cell_type": "code",
   "execution_count": 25,
   "metadata": {},
   "outputs": [],
   "source": [
    "# Cleaning for stopwords\n",
    "from nltk.corpus import stopwords\n",
    "''' The code below removes stopwords from each tweet in our DataFrame using pythons nltk library. \n",
    "Before removing stopwords from Tweet-data, I remove the word \"inte\" from the stopword-list since it influence the sentiment.'''\n",
    "\n",
    "stop= stopwords.words('swedish')\n",
    "stop.remove('inte')\n",
    "\n",
    "\n",
    "'uncomment below rows for quick visualization'\n",
    "#data_clean=pd.DataFrame(data_clean['Tweet'].apply(lambda tweet: ' '.join([word for word in tweet.split(' ') if word not in (stop) ])))\n",
    "#data_clean.head(30)\n",
    "#data_clean.loc[[4,13,15,32,40,41,47,51,53],['Tweet']]\n",
    "\n",
    "\n",
    "\n",
    "\n"
   ]
  },
  {
   "cell_type": "code",
   "execution_count": 26,
   "metadata": {},
   "outputs": [],
   "source": [
    "#Sentiment score\n",
    "from vaderSentiment.vaderSentiment import SentimentIntensityAnalyzer\n",
    "\n",
    "def sentiment(Tweet):\n",
    "    ''' Function takes one input argument, the tweet/text column in our Dataframe and returns a new column corresponding to the\n",
    "    sentiment score(compund) for each Tweet using the VADER-lexicon. \n",
    "    IN: DataFrame, Tweet-data column.\n",
    "    OUT: DataFrame with one new column, the sentiment score.'''\n",
    "    \n",
    "    sentiment_obj= SentimentIntensityAnalyzer()\n",
    "    sentiment_score=sentiment_obj.polarity_scores(Tweet)\n",
    "    \n",
    "    return sentiment_score['compound'] \n",
    "\n",
    "\n",
    "'uncomment below rows for quick visualization'\n",
    "#data_clean['Sentiment score']= data_clean['Tweet'].apply(lambda tweet: sentiment(tweet))\n",
    "#data_clean.head(50)\n",
    "\n",
    "\n"
   ]
  },
  {
   "cell_type": "code",
   "execution_count": 27,
   "metadata": {},
   "outputs": [],
   "source": [
    "\n",
    "#lägger till år och date som kolumner\n",
    "def ToDataframe_time(Tweet_Data):\n",
    "    ''' Function takes a dictionary corresponding to the JSON-file for each park, Extracts the \"Timestamp\" data for each Tweet\n",
    "    and returns a Pandas DataFrame with 5 columns one for each attribute of the Timestamp data corresponding to:\n",
    "    \"DayofWeek\", \"Month\", \"Date\", \"Hour\" and \"Year\". \n",
    "    IN: Tweet_Data(Dictionary).\n",
    "    OUT: Pandas DataFrame with 5 columns,\"DayofWeek\", \"Month\", \"Date\", \"Hour\" and \"year\". '''\n",
    "    \n",
    "    Df_list=[]\n",
    "    \n",
    "    for item in Tweet_Data['statuses']:\n",
    "        Df_list.append(item['created_at'])\n",
    "    \n",
    "    Df_org=pd.DataFrame(data=Df_list,columns=['Timestamp'])\n",
    "    \n",
    "    \n",
    "    Df_org['Dayofweek']=Df_org['Timestamp'].apply(lambda x: x.split(' ')[0])\n",
    "    Df_org['Month']=Df_org['Timestamp'].apply(lambda x: x.split(' ')[1])\n",
    "    Df_org['Date']=Df_org['Timestamp'].apply(lambda x: x.split(' ')[2])\n",
    "    Df_org['Hour']=Df_org['Timestamp'].apply(lambda x: x.split(' ')[3][:2])\n",
    "    Df_org['Year']=Df_org['Timestamp'].apply(lambda x: x.split(' ')[-1])\n",
    "    \n",
    "    return Df_org\n",
    "        \n",
    "\n",
    "\n",
    "    \n",
    "#Tweet_Data=Open_File('TwitterData_Json'+'/Hagaparken_Tweet15-19.json')\n",
    "#df_time= ToDataframe_time(Tweet_Data)\n",
    "#df_time.head()\n",
    "\n"
   ]
  },
  {
   "cell_type": "code",
   "execution_count": 28,
   "metadata": {},
   "outputs": [],
   "source": [
    "''' Adding the time DataFrame to our original DataFrame. The new DataFrame has the following columns:\n",
    "\"Tweet\", \"Sentiment Score\", \"DayofWeek\", \"Month\", \"Date\", \"Hour\" and \"year\". \n",
    "'''\n",
    "df_senti['Year']=df_time['Year']\n",
    "df_senti['Month']=df_time['Month']\n",
    "df_senti['Day']=df_time['Dayofweek']\n",
    "df_senti['Hour']=df_time['Hour']\n",
    "\n"
   ]
  },
  {
   "cell_type": "code",
   "execution_count": 29,
   "metadata": {
    "scrolled": true
   },
   "outputs": [],
   "source": [
    "def hue(score):\n",
    "    ''' Function Takes one input argument, The sentiment score column in our DataFrame, and returns a new column corresponding to \n",
    "    the classified semantic orientation of the Tweet based on the corresponding sentiment score. \n",
    "    IN: DataFrame column(Sentiment Score).\n",
    "    OUT: DataFrame containing one new column with the coresponding semantic orientation positive, negative or neutral) for each tweet.\n",
    "    '''\n",
    "    if score > 0.05:\n",
    "        return 'Positive'\n",
    "    elif score < -0.05:\n",
    "        return 'Negative'\n",
    "    else:\n",
    "        return 'Neutral'\n",
    "\n",
    "\n",
    "#df_senti['Sentiment']=df_senti['Sentiment score'].apply( lambda score: hue(score))\n",
    "#df_senti.head(20)\n"
   ]
  },
  {
   "cell_type": "code",
   "execution_count": 30,
   "metadata": {},
   "outputs": [
    {
     "data": {
      "text/plain": [
       "Text(0.5, 1.0, 'Total Sentiment Distribution of Tweets ')"
      ]
     },
     "execution_count": 30,
     "metadata": {},
     "output_type": "execute_result"
    },
    {
     "data": {
      "image/png": "[encoded data removed]",
      "text/plain": [
       "<Figure size 864x720 with 1 Axes>"
      ]
     },
     "metadata": {},
     "output_type": "display_data"
    }
   ],
   "source": [
    "\n",
    "\n",
    "#The code below creats a plot of the total Sentiment Distribution(Positive,Negative,Neutral) for all the Tweets. \n",
    "\n",
    "sns.set(rc={'figure.figsize':(20,10)})\n",
    "sns.set_palette('deep')\n",
    "fig= plt.figure(figsize=(12,10))\n",
    "\n",
    "#Countplot All Sentiment\n",
    "ax_count=sns.countplot(x='Sentiment',order=['Neutral','Negative','Positive'], data=df_senti)\n",
    "ax_count.set_xlabel('Sentiment',fontsize=18) \n",
    "ax_count.set_ylabel('Frequency',fontsize=18)\n",
    "ax_count.set_title('Total Sentiment Distribution of Tweets ',fontsize=20)\n",
    "\n",
    "#fig.savefig('Rålambshovsparken_sentiment_Count.pdf')\n"
   ]
  },
  {
   "cell_type": "code",
   "execution_count": 31,
   "metadata": {},
   "outputs": [],
   "source": [
    "# read data\n",
    "#df_senti=pd.read_pickle('df_before_plots_Rå')\n",
    "\n",
    "''' The code below is the main function. Runs all the previous steps and\n",
    "creates a 2X2 plot of the sentiment distribution of our Dataframe using Seaborn.The created plots are the following:\n",
    "\n",
    "1: Seasonal  distrubtion of Sentiment. x-axis:Season, y-axis:Frequency.\n",
    "2: Monthly distrubtion of Sentiment Score. x-axis:Month, y-axis:Sentiment Score(from -1 to 1).\n",
    "3: Weekday distrubtion of Sentiment Score. x-axis:Weekday, y-axis:Sentiment Score(from -1 to 1).\n",
    "4: Hourly distrubtion of Sentiment. x-axis:Hour, y-axis:Frequency.\n",
    "'''\n",
    "\n",
    "def main():\n",
    "    \n",
    "    # Reading Tweet-data\n",
    "    Tweet_Data=Open_File('TwitterData_Json'+'/Hagaparken_Tweet15-19.json')\n",
    "    df_text= ToDataframe_text(Tweet_Data)\n",
    "    \n",
    "    # cleaning round 1\n",
    "    round1=lambda tweet:clean_text_round1(tweet)\n",
    "    data_clean=pd.DataFrame(df_text['Tweet'].apply(round1))\n",
    "    \n",
    "    # cleaning round 2\n",
    "    data_clean['Tweet'] = data_clean['Tweet'].apply(lambda tweet: clean_text_round2(tweet))\n",
    "    \n",
    "    # removing stopwords\n",
    "    df_senti = pd.DataFrame(data_clean['Tweet'].apply(lambda tweet: ' '.join([word for word in tweet.split(' ') if word not in (stop) ])))\n",
    "    \n",
    "    # Sentiment score\n",
    "    df_senti['Sentiment score'] = df_senti['Tweet'].apply(lambda tweet: sentiment(tweet))\n",
    "    \n",
    "    # Adding time-data to dataframe\n",
    "    df_time= ToDataframe_time(Tweet_Data)\n",
    "    \n",
    "    # Combining the text-dataframe and time-dataframe\n",
    "    df_senti['Year'] = df_time['Year']\n",
    "    df_senti['Month'] = df_time['Month']\n",
    "    df_senti['Day'] = df_time['Dayofweek']\n",
    "    df_senti['Hour'] = df_time['Hour']\n",
    "    \n",
    "    # Classyfing the sentiment score\n",
    "    df_senti['Sentiment'] = df_senti['Sentiment score'].apply( lambda score: hue(score))\n",
    "    \n",
    "    \n",
    "    \n",
    "    # Initiating  2x2 figure\n",
    "    sns.set(rc={'figure.figsize':(20,10)})\n",
    "    sns.set_palette('colorblind')\n",
    "    fig,ax= plt.subplots(2,2,figsize=(20,18))\n",
    "\n",
    "\n",
    "    # Remove Neutral sentiments-since they dont contribute to meaningful info\n",
    "    neu=df_senti[df_senti['Sentiment']=='Neutral'].index\n",
    "    df_senti.drop(neu,inplace=True)\n",
    "\n",
    "\n",
    "    # Month: barlot \n",
    "    ax_month=sns.barplot(x='Month',y='Sentiment score',hue='Sentiment',order=['Jan','Feb','Mar','Apr','May','Jun','Jul','Aug','Sep','Oct','Nov','Dec'],data=df_senti,ax=ax[0][1])\n",
    "    ax_month.set_xlabel('Month',fontsize=18) \n",
    "    ax_month.set_ylabel('<-- Negative --------- Positive -->',fontsize=18)\n",
    "    ax_month.set_title('Monthly distribution of Sentiment score',fontsize=20)\n",
    "\n",
    "\n",
    "    # Weekday Swarmpplot\n",
    "    ax_day= sns.swarmplot(x='Day',y='Sentiment score',hue='Sentiment',order=['Mon','Tue','Wed','Thu','Fri','Sat','Sun'], data=df_senti,ax=ax[1][0])\n",
    "    ax_day.set_xlabel('Weekday',fontsize=18) \n",
    "    ax_day.set_ylabel('<-- Negative --------- Positive -->',fontsize=18)\n",
    "    ax_day.set_title('Weekday distribution of Sentiment score',fontsize=20)\n",
    "\n",
    "\n",
    "    # Season countplot\n",
    "    df_senti['Month'].replace(['Mar','Apr','May','Jun','Jul','Aug','Sep','Oct','Nov','Jan','Feb','Dec'],['spring','spring','spring','summer','summer','summer','fall','fall','fall','winter','winter','winter'],inplace=True)\n",
    "\n",
    "    ax_season=sns.countplot(x='Month',hue='Sentiment',order=['spring','summer','fall','winter',],data=df_senti[::-1],ax=ax[0][0])\n",
    "    ax_season.set_xlabel('Season',fontsize=18) \n",
    "    ax_season.set_ylabel('Frequency',fontsize=18)\n",
    "    ax_season.set_title('Seasonal distribution of Sentiment',fontsize=20)\n",
    "\n",
    "\n",
    "    # Hour countplot\n",
    "    ax_hour= sns.countplot(x='Hour',hue='Sentiment',data=df_senti,ax=ax[1][1])\n",
    "    ax_hour.set_xlabel('Hour',fontsize=18) \n",
    "    ax_hour.set_ylabel('Frequency',fontsize=18)\n",
    "    ax_hour.set_title('Hourly distribution of Sentiment',fontsize=20)\n",
    "\n",
    "\n",
    "\n",
    "    fig.show()\n",
    "    #fig.savefig('Rålambshovsparken_sentiment_plots.pdf')\n",
    "\n",
    "    \n",
    "    \n",
    "'Uncomment to run program'\n",
    "#main()\n",
    "\n",
    "\n",
    "\n",
    "\n",
    "\n",
    "\n",
    "\n",
    "\n"
   ]
  },
  {
   "cell_type": "code",
   "execution_count": null,
   "metadata": {},
   "outputs": [],
   "source": [
    " "
   ]
  },
  {
   "cell_type": "code",
   "execution_count": null,
   "metadata": {},
   "outputs": [],
   "source": []
  },
  {
   "cell_type": "code",
   "execution_count": null,
   "metadata": {},
   "outputs": [],
   "source": []
  },
  {
   "cell_type": "code",
   "execution_count": null,
   "metadata": {},
   "outputs": [],
   "source": []
  },
  {
   "cell_type": "code",
   "execution_count": null,
   "metadata": {},
   "outputs": [],
   "source": []
  },
  {
   "cell_type": "code",
   "execution_count": null,
   "metadata": {},
   "outputs": [],
   "source": []
  },
  {
   "cell_type": "code",
   "execution_count": null,
   "metadata": {},
   "outputs": [],
   "source": []
  }
 ],
 "metadata": {
  "kernelspec": {
   "display_name": "Python 3",
   "language": "python",
   "name": "python3"
  },
  "language_info": {
   "codemirror_mode": {
    "name": "ipython",
    "version": 3
   },
   "file_extension": ".py",
   "mimetype": "text/x-python",
   "name": "python",
   "nbconvert_exporter": "python",
   "pygments_lexer": "ipython3",
   "version": "3.7.6"
  }
 },
 "nbformat": 4,
 "nbformat_minor": 4
}
