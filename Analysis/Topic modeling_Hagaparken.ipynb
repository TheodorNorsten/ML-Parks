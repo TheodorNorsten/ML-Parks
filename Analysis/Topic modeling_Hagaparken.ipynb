{
 "cells": [
  {
   "cell_type": "code",
   "execution_count": 2,
   "metadata": {},
   "outputs": [],
   "source": [
    "#importing useful libraries\n",
    "\n",
    "import pandas as pd\n",
    "import numpy as np\n",
    "import json\n",
    "import matplotlib.pyplot as plt\n",
    "import seaborn as sns\n",
    "sns.set_style('whitegrid')"
   ]
  },
  {
   "cell_type": "code",
   "execution_count": 3,
   "metadata": {},
   "outputs": [],
   "source": [
    "%matplotlib inline"
   ]
  },
  {
   "cell_type": "code",
   "execution_count": 4,
   "metadata": {},
   "outputs": [],
   "source": [
    "def Open_File(file_name):\n",
    "    '''Function takes one input argument, a JSON-file,corresponding to the saved file-name,for each park, \n",
    "    from the result of the request to Twitters API and converts the JSON-file to a dictionary.   \n",
    "    IN: file_name(JSON-object).\n",
    "    OUT: Tweet_Data (Dictionary), Dictionary of the JSON-file.'''\n",
    "    \n",
    "    with open(file_name) as file:\n",
    "        Tweet_Data= json.load(file)\n",
    "\n",
    "    return Tweet_Data"
   ]
  },
  {
   "cell_type": "code",
   "execution_count": 5,
   "metadata": {},
   "outputs": [
    {
     "data": {
      "text/plain": [
       "'uncomment below rows for quick visualization'"
      ]
     },
     "execution_count": 5,
     "metadata": {},
     "output_type": "execute_result"
    }
   ],
   "source": [
    "def ToDataframe_text(Tweet_Data):\n",
    "    '''  Function takes a dictionary corresponding to the JSON-file for each park, Extracts the \"Text\" data and returns\n",
    "    a Pandas DataFrame with one column,Tweet/Text-data, were each row represents one unique Tweet.\n",
    "    IN: Tweet_Data(Dictionary).\n",
    "    OUT: DataFrame, with one column, Tweet/text-data.'''\n",
    "    \n",
    "    Df_list=[]\n",
    "    for item in Tweet_Data['statuses']:\n",
    "        if item['truncated']==True:\n",
    "            Df_list.append(item['extended_tweet']['full_text'])\n",
    "        else:\n",
    "            Df_list.append(item['text'])\n",
    "    pd.set_option('display.max_colwidth',-1)\n",
    "    Df= pd.DataFrame(data=Df_list,columns=['Tweet'])\n",
    "    return Df\n",
    "\n",
    "'uncomment below rows for quick visualization'\n",
    "\n",
    "#Tweet_Data=Open_File('TwitterData_Json'+'/Hagaparken_Tweet15-19.json')\n",
    "#df_text= ToDataframe_text(Tweet_Data)"
   ]
  },
  {
   "cell_type": "code",
   "execution_count": 6,
   "metadata": {},
   "outputs": [
    {
     "data": {
      "text/plain": [
       "'uncomment below rows for quick visualization'"
      ]
     },
     "execution_count": 6,
     "metadata": {},
     "output_type": "execute_result"
    }
   ],
   "source": [
    "#importing pythons regular expression library.\n",
    "import re\n",
    "def clean_text_round1(text):\n",
    "    ''' Funtion takes one input argument,the tweet column in our Dataframe,and removes URL-references and special characters\n",
    "    that doesnt influence the sentiment such att #,numbers and /(see below) using pythons regular expression library. \n",
    "    Function returns a cleaned DataFramed. \n",
    "    IN: DataFranme, Tweet(text)-data column.\n",
    "    OUT: DataFrame, cleaned from URL-references and special characters.'''\n",
    "    \n",
    "    text=re.sub(r'((https?):((//)|(\\\\\\\\))+([\\w\\d:#@%/;$()~_?\\+-=\\\\\\.&](#!)?)*)','',text)\n",
    "    text=re.sub(r'@\\S+ ', r'', text)\n",
    "    text= re.sub(r'[@0-9.#/\"?;():-]', '', text)\n",
    "    return text\n",
    "\n",
    "\n",
    "'uncomment below rows for quick visualization'\n",
    "#round1=lambda tweet:clean_text_round1(tweet)\n",
    "#df = pd.DataFrame(df_text['Tweet'].apply(round1))\n",
    "#df.head(20)"
   ]
  },
  {
   "cell_type": "code",
   "execution_count": 7,
   "metadata": {},
   "outputs": [],
   "source": [
    "import re\n",
    "from nltk.corpus import stopwords\n",
    "def clean_emoji(tweet):\n",
    "    '''Funtion takes one input argument,the Tweet/Text column in our Dataframe,removes all characters that isnt a alphabetic\n",
    "    letter using pythons regular expression library and returns a cleaned Tweet/Text column.\n",
    "    IN: DataFrame column,Tweet-data.\n",
    "    OUT: DataFrame, where Tweet/Text column only contains alphabetic letters.'''\n",
    "    \n",
    "    tweet=tweet.lower()\n",
    "    tweet= re.sub(r'[^a-ö \\s]','',tweet)\n",
    "    tweet= re.sub(r'[\\n]',' ',tweet)\n",
    "     \n",
    "    return tweet\n",
    "\n"
   ]
  },
  {
   "cell_type": "code",
   "execution_count": 8,
   "metadata": {},
   "outputs": [
    {
     "data": {
      "text/plain": [
       "'uncomment below rows for quick visualization'"
      ]
     },
     "execution_count": 8,
     "metadata": {},
     "output_type": "execute_result"
    }
   ],
   "source": [
    "#Stemming\n",
    "# means that we reduces inflected words to their word stem ex (klockan,) ->klocka\n",
    "from nltk.stem.snowball import SnowballStemmer\n",
    "snowball=SnowballStemmer('swedish',ignore_stopwords=True)\n",
    "\n",
    "def stemming(tweet):\n",
    "    ''' Funtion takes one input argument,the Tweet/Text column in our Dataframe, and returns a stemmed Tweet/Text column\n",
    "    using the pythons nltk library.\n",
    "    IN: DataFrame column, Tweet/Text column.\n",
    "    OUT: Stemmed DataFrame column.'''\n",
    "    \n",
    "    return snowball.stem(tweet)\n",
    "    \n",
    "\n",
    "'uncomment below rows for quick visualization'   \n",
    "#data_clean['Tweet']= data_clean['Tweet'].apply(lambda tweet: stemming(tweet))\n"
   ]
  },
  {
   "cell_type": "code",
   "execution_count": 9,
   "metadata": {},
   "outputs": [
    {
     "data": {
      "text/plain": [
       "'uncomment below rows for quick visualization'"
      ]
     },
     "execution_count": 9,
     "metadata": {},
     "output_type": "execute_result"
    }
   ],
   "source": [
    "from functools import reduce\n",
    "\n",
    "# removing the word Hagaparken\n",
    "def remove(tweet):\n",
    "    ''' Funtion takes one input argument,the Tweet/Text-column in our Dataframe, and removes words That appear in 99% or more\n",
    "    of all tweets.\n",
    "    IN:DataFrame column, Tweet-data.\n",
    "    OUT: DataFrame column, cleaned from commonly occured words.'''\n",
    "    patternsToRemove = [\n",
    "        r'[Hh]aga(parken)?',\n",
    "        r'[Ff]oto',\n",
    "        r'[Pp]ark(en)?',\n",
    "        r'[Pp]ublicerat',\n",
    "        r'[Ss]olna',\n",
    "        r'[Ff]järilshuset',\n",
    "        r'[Ss]tockholm',\n",
    "    ]\n",
    "    \n",
    "    return reduce(lambda tweet, pattern: re.sub(pattern, '', tweet), patternsToRemove, tweet)\n",
    "    \n",
    "'uncomment below rows for quick visualization'  \n",
    "#data_clean['Tweet']=data_clean['Tweet'].apply(lambda tweet: remove(tweet))\n",
    "#data_clean.head(10)\n"
   ]
  },
  {
   "cell_type": "code",
   "execution_count": 10,
   "metadata": {},
   "outputs": [],
   "source": [
    "from nltk import word_tokenize, pos_tag\n",
    "def nouns(text):\n",
    "    '''Given a string of text, tokenize it and pull out only the words'''\n",
    "    is_noun_adj_vb= lambda pos: pos[:2] == 'NN' or pos[:2] =='VB' or pos[:2] =='JJ'\n",
    "    tokenized = word_tokenize(text)\n",
    "    all_nouns_adj_vb= [word for (word,pos) in pos_tag(tokenized) if is_noun_adj_vb(pos)]\n",
    "    return ' '.join(all_nouns_adj_vb)\n"
   ]
  },
  {
   "cell_type": "code",
   "execution_count": 11,
   "metadata": {},
   "outputs": [],
   "source": [
    "\n",
    "\n",
    "# filtering more words\n",
    "filter_list=['precis', 'dag','idag','bra','finns','kl','amp','svpol','tack','runt','ses','kanske','härlig','bättre','dagen','förbi','vill','koppartälten','står','går','år','väg','skön',\n",
    "            'kom','dags','im','dagens','se','mer','få','kommer','ta','väl','kom','bara','får','hela','såg','folk',\n",
    "            'inför','brukar','stora','photo','posted','ska','två','alltså','söndag','testa','flera','imorgon','helt','genom','gå',\n",
    "            'fin','gör','typ','sista','plats','sen','tror','igen','också','lund','bäst','ser',\n",
    "            'fint','gick','första','ja','tillbaka','många','innan','ändå','bästa','lilla','måste',\n",
    "            'inget','tog','fram','dom','fina','vet','riktigt','gamla']\n",
    "\n",
    "\n",
    "def filter(tweet):\n",
    "    ''' Function removes more commonly used words defined in the variable filter_list.\n",
    "    IN: DataFrame column, Tweet-data.\n",
    "    OUT: DataFrame column, cleaned by more words.\n",
    "    '''\n",
    "    tweet=tweet.lower()\n",
    "    tweet_split= tweet.split(' ')\n",
    "    \n",
    "    for word in filter_list:\n",
    "        if word in tweet_split:\n",
    "            tweet_split.remove(word)\n",
    "\n",
    "    \n",
    "    if ' '.join(tweet_split):\n",
    "        return ' '.join(tweet_split)\n",
    "    \n",
    "    else:\n",
    "        return 'tom'\n",
    "\n",
    "    \n",
    "#df_dtm['Tweet']= df_dtm['Tweet'].apply(lambda tweet: filter(tweet))\n",
    "\n",
    "\n",
    "    "
   ]
  },
  {
   "cell_type": "code",
   "execution_count": 14,
   "metadata": {},
   "outputs": [],
   "source": [
    "from sklearn.feature_extraction.text import CountVectorizer\n",
    "import pickle\n",
    "from gensim import matutils, models\n",
    "import scipy.sparse\n",
    "import logging\n",
    "\n",
    "''' The function below runs all the previous steps and returns the variables \"id2word\",\"coprus\" which are going to be \n",
    "input variables in the lda-model in next cell. The function also returns the variable \"df_dtm\" which represents the \n",
    "'''\n",
    "\n",
    "def data_toDTM():\n",
    "\n",
    "    # Reading Tweet-data\n",
    "    Tweet_Data = Open_File('../TwitterData_Json/Hagaparken_Tweet15-19.json')\n",
    "    df_text = ToDataframe_text(Tweet_Data)\n",
    "    \n",
    "    # cleaning round 1\n",
    "    round1 = lambda tweet:clean_text_round1(tweet)\n",
    "    df = pd.DataFrame(df_text['Tweet'].apply(round1))\n",
    "\n",
    "    # removing all characters that isnt a alphabetic letter.\n",
    "    df['Tweet'] = df['Tweet'].apply(lambda tweet: clean_emoji(tweet))\n",
    "\n",
    "    # Removing stopwords from Tweet-data column using pythons nltk library.\n",
    "    stop = stopwords.words('swedish')\n",
    "    data_clean = pd.DataFrame(df['Tweet'].apply(lambda tweet: ' '.join([word for word in tweet.split(' ') if word not in (stop) ])))\n",
    "\n",
    "\n",
    "    # Stemming.\n",
    "    data_clean['Tweet'] = data_clean['Tweet'].apply(lambda tweet: stemming(tweet))\n",
    "    \n",
    "    # Only nouns,adjectives and verbs includes in the analysis.\n",
    "    data_clean = pd.DataFrame(data_clean['Tweet'].apply(nouns))\n",
    "    \n",
    "    # Removing common expressed words.\n",
    "    data_clean['Tweet'] = data_clean['Tweet'].apply(lambda tweet: remove(tweet))\n",
    "    data_clean['Tweet'] = data_clean['Tweet'].apply(lambda tweet: filter(tweet))\n",
    " \n",
    "    # Delete these row indexes from dataFrame\n",
    "    del_rows= data_clean[data_clean['Tweet']=='tom'].index\n",
    "    data_clean.drop(del_rows , inplace=True)\n",
    "    \n",
    "    \n",
    "    # In order to Implement the LDA-algoritm we Transform the DataFrame column Tweet-data to a Document Term Matrix\n",
    "    # excludes words that appear in more then 90% and less then 0,25% of all tweets.\n",
    " \n",
    "    cv = CountVectorizer(max_df=0.9,min_df=0.0025) \n",
    "    data_cv = cv.fit_transform(data_clean['Tweet'])\n",
    "    data_dtm = pd.DataFrame(data_cv.toarray(), columns=cv.get_feature_names())\n",
    "    data_dtm.index = data_clean.index\n",
    "\n",
    "    # pickle the data\n",
    "    pickle.dump(cv,open('cv.pkl','wb'))\n",
    "\n",
    "    #Required input for topic modeling is a term-document matrix\n",
    "    #Which is the transpose of a DTM\n",
    "    # columns=Tweets, rows= word \n",
    "    tdm=data_dtm.transpose()\n",
    "    \n",
    "    # putting the term-document matrix into a new gensim format, sparse matrix for efficency.\n",
    "    sparse_counts = scipy.sparse.csr_matrix(tdm)\n",
    "    corpus = matutils.Sparse2Corpus(sparse_counts)\n",
    "\n",
    "    # Gensim also requires dictionary of all the terms and their respective location in the tdm\n",
    "    cv = pickle.load(open('cv.pkl','rb'))\n",
    "    id2word = dict((v,k) for k, v in cv.vocabulary_.items())\n",
    "    \n",
    "    return id2word, corpus, data_clean\n"
   ]
  },
  {
   "cell_type": "markdown",
   "metadata": {},
   "source": [
    "# Topic Modeling Nouns Adjective and Verbs \n",
    "## LDA modell\n",
    "#### Now we have the corpus (term document matrix) and id2word( ditionary of loation: term),\n",
    "#### we need to specify two other parameters as well, 1: number of topics, 2: Number of passes"
   ]
  },
  {
   "cell_type": "code",
   "execution_count": 15,
   "metadata": {},
   "outputs": [
    {
     "name": "stderr",
     "output_type": "stream",
     "text": [
      "C:\\Users\\theod\\anaconda3\\lib\\site-packages\\ipykernel_launcher.py:13: FutureWarning: Passing a negative integer is deprecated in version 1.0 and will not be supported in future version. Instead, use None to not limit the column width.\n",
      "  del sys.path[0]\n"
     ]
    },
    {
     "data": {
      "text/plain": [
       "[(0,\n",
       "  '0.039*\"ocean\" + 0.029*\"sthlm\" + 0.023*\"sweden\" + 0.018*\"nya\" + 0.014*\"solen\" + 0.013*\"hemma\" + 0.012*\"lunch\" + 0.012*\"idrottens\" + 0.011*\"liten\" + 0.011*\"anmäla\"'),\n",
       " (1,\n",
       "  '0.028*\"royal\" + 0.025*\"barn\" + 0.024*\"km\" + 0.024*\"love\" + 0.023*\"löpning\" + 0.022*\"family\" + 0.017*\"lopp\" + 0.017*\"idrottens\" + 0.016*\"prins\" + 0.015*\"idrottensdag\"'),\n",
       " (2,\n",
       "  '0.040*\"lite\" + 0.034*\"brunnsviken\" + 0.027*\"promenad\" + 0.026*\"toughviking\" + 0.017*\"asylboende\" + 0.015*\"viking\" + 0.014*\"tough\" + 0.014*\"hem\" + 0.014*\"topploppet\" + 0.013*\"ligger\"'),\n",
       " (3,\n",
       "  '0.056*\"trädgård\" + 0.016*\"norra\" + 0.015*\"nästa\" + 0.014*\"snart\" + 0.013*\"gång\" + 0.013*\"fick\" + 0.012*\"daniel\" + 0.012*\"ikväll\" + 0.011*\"jobb\" + 0.011*\"grattis\"')]"
      ]
     },
     "execution_count": 15,
     "metadata": {},
     "output_type": "execute_result"
    }
   ],
   "source": [
    "'Output from the function each lda-model takes the variables \"id2word\" and \"corpus\" as input.'\n",
    "id2word,corpus,df_dtm = data_toDTM()\n",
    "\n",
    "# LDA for 4 topics\n",
    "lda= models.LdaModel(corpus=corpus, id2word=id2word, num_topics=4,passes=80)\n",
    "lda.print_topics()\n"
   ]
  },
  {
   "cell_type": "code",
   "execution_count": null,
   "metadata": {},
   "outputs": [],
   "source": []
  },
  {
   "cell_type": "markdown",
   "metadata": {},
   "source": [
    "### Identified topics in above output\n",
    "#### topic 1:  Nature \n",
    "#### topic 2: excercise, running,outdoors  Social(family,friends)\n",
    "#### topic 3:  excercise, running,outdoors\n",
    "#### topic 4: Holydays celebrations\n"
   ]
  },
  {
   "cell_type": "code",
   "execution_count": 16,
   "metadata": {},
   "outputs": [
    {
     "data": {
      "image/png": "[encoded data removed]",
      "text/plain": [
       "<Figure size 720x432 with 4 Axes>"
      ]
     },
     "metadata": {
      "needs_background": "light"
     },
     "output_type": "display_data"
    }
   ],
   "source": [
    "# 1. Wordcloud of Top N words in each topic\n",
    "from matplotlib import pyplot as plt\n",
    "from wordcloud import WordCloud, STOPWORDS\n",
    "from nltk.corpus import stopwords\n",
    "import matplotlib.colors as mcolors\n",
    "\n",
    "''' The code below creats a Word-count plot of the twenty most used occured word for each Topic.\n",
    "'''\n",
    "\n",
    "stop_words= stopwords.words('swedish')\n",
    "cols = [color for name, color in mcolors.TABLEAU_COLORS.items()]  # more colors: 'mcolors.XKCD_COLORS'\n",
    "\n",
    "cloud = WordCloud(stopwords=stop_words,\n",
    "                  background_color='white',\n",
    "                  width=2500,\n",
    "                  height=1800,\n",
    "                  max_words=20,\n",
    "                  colormap='tab10',\n",
    "                  color_func=lambda *args, **kwargs: cols[i],\n",
    "                  prefer_horizontal=1.0)\n",
    "\n",
    "topics = lda.show_topics(num_words=20,formatted=False)\n",
    "\n",
    "fig, axes = plt.subplots(2,2, figsize=(10,6), sharex=True, sharey=True)\n",
    "\n",
    "for i, ax in enumerate(axes.flatten()):\n",
    "    fig.add_subplot(ax)\n",
    "    topic_words = dict(topics[i][1])\n",
    "    cloud.generate_from_frequencies(topic_words, max_font_size=300)\n",
    "    plt.gca().imshow(cloud)\n",
    "    plt.gca().set_title('Topic ' + str(i), fontdict=dict(size=16))\n",
    "    plt.gca().axis('off')\n",
    "\n",
    "\n",
    "plt.subplots_adjust(wspace=0, hspace=0)\n",
    "plt.axis('off')\n",
    "plt.margins(x=0, y=0)\n",
    "plt.tight_layout()\n",
    "plt.show()\n",
    "#fig.savefig('Hagaparken_wordcloud.pdf')"
   ]
  },
  {
   "cell_type": "code",
   "execution_count": 17,
   "metadata": {},
   "outputs": [
    {
     "data": {
      "text/html": [
       "<div>\n",
       "<style scoped>\n",
       "    .dataframe tbody tr th:only-of-type {\n",
       "        vertical-align: middle;\n",
       "    }\n",
       "\n",
       "    .dataframe tbody tr th {\n",
       "        vertical-align: top;\n",
       "    }\n",
       "\n",
       "    .dataframe thead th {\n",
       "        text-align: right;\n",
       "    }\n",
       "</style>\n",
       "<table border=\"1\" class=\"dataframe\">\n",
       "  <thead>\n",
       "    <tr style=\"text-align: right;\">\n",
       "      <th></th>\n",
       "      <th>Document_No</th>\n",
       "      <th>Dominant_Topic</th>\n",
       "      <th>Topic_Perc_Contrib</th>\n",
       "      <th>Keywords</th>\n",
       "      <th>Text</th>\n",
       "    </tr>\n",
       "  </thead>\n",
       "  <tbody>\n",
       "    <tr>\n",
       "      <th>0</th>\n",
       "      <td>0</td>\n",
       "      <td>3.0</td>\n",
       "      <td>0.8117</td>\n",
       "      <td>trädgård, norra, nästa, snart, gång, fick, daniel, ikväll, jobb, grattis</td>\n",
       "      <td>träffade raspen  gång talet</td>\n",
       "    </tr>\n",
       "    <tr>\n",
       "      <th>1</th>\n",
       "      <td>1</td>\n",
       "      <td>0.0</td>\n",
       "      <td>0.6215</td>\n",
       "      <td>ocean, sthlm, sweden, nya, solen, hemma, lunch, idrottens, liten, anmäla</td>\n",
       "      <td>igenom antar syftar  tråkigt hände tyvärr förvånad alls nya sver</td>\n",
       "    </tr>\n",
       "    <tr>\n",
       "      <th>2</th>\n",
       "      <td>2</td>\n",
       "      <td>0.0</td>\n",
       "      <td>0.2500</td>\n",
       "      <td>ocean, sthlm, sweden, nya, solen, hemma, lunch, idrottens, liten, anmäla</td>\n",
       "      <td>tvingas välja sympati snorungarna  bortskämd svennekill</td>\n",
       "    </tr>\n",
       "    <tr>\n",
       "      <th>3</th>\n",
       "      <td>3</td>\n",
       "      <td>3.0</td>\n",
       "      <td>0.8707</td>\n",
       "      <td>trädgård, norra, nästa, snart, gång, fick, daniel, ikväll, jobb, grattis</td>\n",
       "      <td>försäsong bland hundskit  gjort aikversionen gott nåt jävla försäsongsläger</td>\n",
       "    </tr>\n",
       "    <tr>\n",
       "      <th>4</th>\n",
       "      <td>4</td>\n",
       "      <td>1.0</td>\n",
       "      <td>0.7488</td>\n",
       "      <td>royal, barn, km, love, löpning, family, lopp, idrottens, prins, idrottensdag</td>\n",
       "      <td>perfekt väder carl eldhs ateljémuseum</td>\n",
       "    </tr>\n",
       "    <tr>\n",
       "      <th>5</th>\n",
       "      <td>5</td>\n",
       "      <td>0.0</td>\n",
       "      <td>0.6163</td>\n",
       "      <td>ocean, sthlm, sweden, nya, solen, hemma, lunch, idrottens, liten, anmäla</td>\n",
       "      <td>omgångar rankning ordning   haninge täby sveavägen intressant lantis odenplan typ hörnet hägerstensåsen typ aspudden saltsjöbaden malmö ljungbyhed örebro åland luleå</td>\n",
       "    </tr>\n",
       "    <tr>\n",
       "      <th>6</th>\n",
       "      <td>6</td>\n",
       "      <td>3.0</td>\n",
       "      <td>0.6237</td>\n",
       "      <td>trädgård, norra, nästa, snart, gång, fick, daniel, ikväll, jobb, grattis</td>\n",
       "      <td>söder högdalen enskede   kollektiv diplomatvilla sundsvall båt hamnen alnö stolpås centrum ås storlien visjövalen storvallen ekerö hallonbergen tyresö huddinge stuvsta nära centrum bromma sundbyberg rissn</td>\n",
       "    </tr>\n",
       "    <tr>\n",
       "      <th>7</th>\n",
       "      <td>7</td>\n",
       "      <td>0.0</td>\n",
       "      <td>0.2500</td>\n",
       "      <td>ocean, sthlm, sweden, nya, solen, hemma, lunch, idrottens, liten, anmäla</td>\n",
       "      <td>grönare december juli</td>\n",
       "    </tr>\n",
       "    <tr>\n",
       "      <th>8</th>\n",
       "      <td>8</td>\n",
       "      <td>0.0</td>\n",
       "      <td>0.2500</td>\n",
       "      <td>ocean, sthlm, sweden, nya, solen, hemma, lunch, idrottens, liten, anmäla</td>\n",
       "      <td>molnigt  regnar  carlmichaelbellman  fjarilshusetocean</td>\n",
       "    </tr>\n",
       "    <tr>\n",
       "      <th>9</th>\n",
       "      <td>9</td>\n",
       "      <td>3.0</td>\n",
       "      <td>0.6208</td>\n",
       "      <td>trädgård, norra, nästa, snart, gång, fick, daniel, ikväll, jobb, grattis</td>\n",
       "      <td>diretta  italiensk tv prata luciatraditionen sverige klipp luciaframträdande stallfåglarna</td>\n",
       "    </tr>\n",
       "  </tbody>\n",
       "</table>\n",
       "</div>"
      ],
      "text/plain": [
       "   Document_No  Dominant_Topic  Topic_Perc_Contrib  \\\n",
       "0  0            3.0             0.8117               \n",
       "1  1            0.0             0.6215               \n",
       "2  2            0.0             0.2500               \n",
       "3  3            3.0             0.8707               \n",
       "4  4            1.0             0.7488               \n",
       "5  5            0.0             0.6163               \n",
       "6  6            3.0             0.6237               \n",
       "7  7            0.0             0.2500               \n",
       "8  8            0.0             0.2500               \n",
       "9  9            3.0             0.6208               \n",
       "\n",
       "                                                                       Keywords  \\\n",
       "0  trädgård, norra, nästa, snart, gång, fick, daniel, ikväll, jobb, grattis       \n",
       "1  ocean, sthlm, sweden, nya, solen, hemma, lunch, idrottens, liten, anmäla       \n",
       "2  ocean, sthlm, sweden, nya, solen, hemma, lunch, idrottens, liten, anmäla       \n",
       "3  trädgård, norra, nästa, snart, gång, fick, daniel, ikväll, jobb, grattis       \n",
       "4  royal, barn, km, love, löpning, family, lopp, idrottens, prins, idrottensdag   \n",
       "5  ocean, sthlm, sweden, nya, solen, hemma, lunch, idrottens, liten, anmäla       \n",
       "6  trädgård, norra, nästa, snart, gång, fick, daniel, ikväll, jobb, grattis       \n",
       "7  ocean, sthlm, sweden, nya, solen, hemma, lunch, idrottens, liten, anmäla       \n",
       "8  ocean, sthlm, sweden, nya, solen, hemma, lunch, idrottens, liten, anmäla       \n",
       "9  trädgård, norra, nästa, snart, gång, fick, daniel, ikväll, jobb, grattis       \n",
       "\n",
       "                                                                                                                                                                                                            Text  \n",
       "0  träffade raspen  gång talet                                                                                                                                                                                    \n",
       "1  igenom antar syftar  tråkigt hände tyvärr förvånad alls nya sver                                                                                                                                               \n",
       "2  tvingas välja sympati snorungarna  bortskämd svennekill                                                                                                                                                        \n",
       "3  försäsong bland hundskit  gjort aikversionen gott nåt jävla försäsongsläger                                                                                                                                    \n",
       "4   perfekt väder carl eldhs ateljémuseum                                                                                                                                                                         \n",
       "5   omgångar rankning ordning   haninge täby sveavägen intressant lantis odenplan typ hörnet hägerstensåsen typ aspudden saltsjöbaden malmö ljungbyhed örebro åland luleå                                         \n",
       "6   söder högdalen enskede   kollektiv diplomatvilla sundsvall båt hamnen alnö stolpås centrum ås storlien visjövalen storvallen ekerö hallonbergen tyresö huddinge stuvsta nära centrum bromma sundbyberg rissn  \n",
       "7   grönare december juli                                                                                                                                                                                         \n",
       "8  molnigt  regnar  carlmichaelbellman  fjarilshusetocean                                                                                                                                                         \n",
       "9  diretta  italiensk tv prata luciatraditionen sverige klipp luciaframträdande stallfåglarna                                                                                                                     "
      ]
     },
     "execution_count": 17,
     "metadata": {},
     "output_type": "execute_result"
    }
   ],
   "source": [
    "def format_topics_sentences(ldamodel=None, corpus=corpus, texts=df_dtm['Tweet']):\n",
    "    # Init output\n",
    "    sent_topics_df = pd.DataFrame()\n",
    "\n",
    "    # Get main topic in each document\n",
    "    for i, row_list in enumerate(ldamodel[corpus]):\n",
    "        row = row_list[0] if ldamodel.per_word_topics else row_list            \n",
    "        # print(row)\n",
    "        row = sorted(row, key=lambda x: (x[1]), reverse=True)\n",
    "        # Get the Dominant topic, Perc Contribution and Keywords for each document\n",
    "        for j, (topic_num, prop_topic) in enumerate(row):\n",
    "            if j == 0:  # => dominant topic\n",
    "                wp = ldamodel.show_topic(topic_num)\n",
    "                topic_keywords = \", \".join([word for word, prop in wp])\n",
    "                sent_topics_df = sent_topics_df.append(pd.Series([int(topic_num), round(prop_topic,4), topic_keywords]), ignore_index=True)\n",
    "            else:\n",
    "                break\n",
    "    sent_topics_df.columns = ['Dominant_Topic', 'Perc_Contribution', 'Topic_Keywords']\n",
    "\n",
    "    # Add original text to the end of the output\n",
    "    contents = pd.Series(texts)\n",
    "    sent_topics_df = pd.concat([sent_topics_df, contents], axis=1)\n",
    "    return(sent_topics_df)\n",
    "\n",
    "\n",
    "df_topic_sents_keywords = format_topics_sentences(ldamodel=lda, corpus=corpus, texts=df_dtm['Tweet'])\n",
    "\n",
    "# Format\n",
    "df_dominant_topic = df_topic_sents_keywords.reset_index()\n",
    "df_dominant_topic.columns = ['Document_No', 'Dominant_Topic', 'Topic_Perc_Contrib', 'Keywords', 'Text']\n",
    "df_dominant_topic.head(10)"
   ]
  },
  {
   "cell_type": "code",
   "execution_count": 18,
   "metadata": {},
   "outputs": [],
   "source": [
    "# Top 3 Keywords for each Topic\n",
    "topic_top3words = [(i, topic) for i, topics in lda.show_topics(formatted=False) \n",
    "                                 for j, (topic, wt) in enumerate(topics) if j < 3]\n",
    "\n",
    "df_top3words_stacked = pd.DataFrame(topic_top3words, columns=['topic_id', 'words'])\n",
    "df_top3words = df_top3words_stacked.groupby('topic_id').agg(', \\n'.join)\n",
    "df_top3words.reset_index(level=0,inplace=True)\n"
   ]
  },
  {
   "cell_type": "code",
   "execution_count": 19,
   "metadata": {},
   "outputs": [
    {
     "data": {
      "text/plain": [
       "Text(0.5, 1.0, 'Number of Tweets by Dominant Topic')"
      ]
     },
     "execution_count": 19,
     "metadata": {},
     "output_type": "execute_result"
    },
    {
     "data": {
      "image/png": "[encoded data removed]",
      "text/plain": [
       "<Figure size 864x720 with 1 Axes>"
      ]
     },
     "metadata": {},
     "output_type": "display_data"
    }
   ],
   "source": [
    "from matplotlib.ticker import FuncFormatter\n",
    "''' The code below plots the distribution of Tweets By dominant topic.\n",
    "'''\n",
    "\n",
    "sns.set(rc={'figure.figsize':(20,10)})\n",
    "sns.set_palette('deep')\n",
    "fig,ax_count= plt.subplots(figsize=(12,10))\n",
    "\n",
    "#Countplot All Sentiment\n",
    "ax_count=sns.countplot(x='Dominant_Topic',data=df_dominant_topic)\n",
    "tick_formatter = FuncFormatter(lambda x, pos: 'Topic ' + str(x)+ '\\n' + df_top3words.loc[df_top3words.topic_id==x, 'words'].values[0])\n",
    "ax_count.xaxis.set_major_formatter(tick_formatter)\n",
    "\n",
    "ax_count.set_xlabel('Topic',fontsize=18) \n",
    "ax_count.set_ylabel('Number of Tweets',fontsize=18)\n",
    "ax_count.set_title('Number of Tweets by Dominant Topic',fontsize=20)\n",
    "\n",
    "#fig.savefig('Hagaparken_Dominanttopic.pdf')\n"
   ]
  },
  {
   "cell_type": "code",
   "execution_count": null,
   "metadata": {},
   "outputs": [],
   "source": []
  }
 ],
 "metadata": {
  "kernelspec": {
   "display_name": "Python 3",
   "language": "python",
   "name": "python3"
  },
  "language_info": {
   "codemirror_mode": {
    "name": "ipython",
    "version": 3
   },
   "file_extension": ".py",
   "mimetype": "text/x-python",
   "name": "python",
   "nbconvert_exporter": "python",
   "pygments_lexer": "ipython3",
   "version": "3.7.6"
  }
 },
 "nbformat": 4,
 "nbformat_minor": 4
}
